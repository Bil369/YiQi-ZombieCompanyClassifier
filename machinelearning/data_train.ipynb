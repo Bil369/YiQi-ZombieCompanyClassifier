{
 "cells": [
  {
   "cell_type": "code",
   "execution_count": 1,
   "metadata": {},
   "outputs": [],
   "source": [
    "import numpy as np\n",
    "import pandas as pd\n",
    "from sklearn.model_selection import StratifiedKFold, GridSearchCV\n",
    "from sklearn.metrics import accuracy_score, f1_score, precision_score, recall_score\n",
    "from sklearn.ensemble import RandomForestClassifier, VotingClassifier\n",
    "import time\n",
    "import matplotlib.pyplot as plt"
   ]
  },
  {
   "cell_type": "code",
   "execution_count": 2,
   "metadata": {},
   "outputs": [],
   "source": [
    "plt.rcParams['font.sans-serif']=['SimHei']\n",
    "plt.rcParams['axes.unicode_minus'] = False"
   ]
  },
  {
   "cell_type": "code",
   "execution_count": 3,
   "metadata": {},
   "outputs": [],
   "source": [
    "data = pd.read_csv('datasets/total_data.csv', encoding='gbk')"
   ]
  },
  {
   "cell_type": "code",
   "execution_count": 16,
   "metadata": {},
   "outputs": [
    {
     "data": {
      "text/plain": [
       "0.09999616579118902"
      ]
     },
     "execution_count": 16,
     "metadata": {},
     "output_type": "execute_result"
    }
   ],
   "source": [
    "min(data['营收/资产_max'])"
   ]
  },
  {
   "cell_type": "code",
   "execution_count": 21,
   "metadata": {},
   "outputs": [],
   "source": [
    "X = data.drop(['ID', 'flag'], axis=1)"
   ]
  },
  {
   "cell_type": "code",
   "execution_count": 22,
   "metadata": {},
   "outputs": [
    {
     "data": {
      "text/plain": [
       "Index(['注册时间', '注册资本', '控制人持股比例', '交通运输业', '商业服务业', '工业', '服务业', '社区服务', '零售业',\n",
       "       '山东',\n",
       "       ...\n",
       "       '主营业务收入_growth', '利润总额_growth', '净利润_growth', '纳税总额_growth',\n",
       "       '所有者权益合计_growth', '负债/资产_growth', '负债/所有者_growth', '所有者/资产_growth',\n",
       "       '净利/所有者_growth', '政策/净利_growth'],\n",
       "      dtype='object', length=250)"
      ]
     },
     "execution_count": 22,
     "metadata": {},
     "output_type": "execute_result"
    }
   ],
   "source": [
    "X.columns"
   ]
  },
  {
   "cell_type": "code",
   "execution_count": 23,
   "metadata": {},
   "outputs": [],
   "source": [
    "y = data['flag']"
   ]
  },
  {
   "cell_type": "code",
   "execution_count": 24,
   "metadata": {},
   "outputs": [],
   "source": [
    "kf = StratifiedKFold(n_splits=5, shuffle=True, random_state=2020)"
   ]
  },
  {
   "cell_type": "code",
   "execution_count": 25,
   "metadata": {},
   "outputs": [],
   "source": [
    "from sklearn.feature_selection import RFECV"
   ]
  },
  {
   "cell_type": "code",
   "execution_count": 26,
   "metadata": {},
   "outputs": [
    {
     "name": "stdout",
     "output_type": "stream",
     "text": [
      "True 净三小0\n",
      "True 净利润_mean\n",
      "True 纳税总额_mean\n",
      "True 纳税/净利_mean\n",
      "True 净利/资产_mean\n",
      "True 净利/营收_mean\n",
      "True 纳税/营收_mean\n",
      "True 净利/利润_mean\n",
      "True 净利/负债_mean\n",
      "True 纳税/负债_mean\n",
      "True 纳税/融资额度_mean\n",
      "True 纳税/净利_min\n",
      "True 所得税_min\n",
      "True 所得税/纳税_min\n",
      "True 净利润_max\n",
      "True 纳税总额_max\n",
      "True 纳税/净利_max\n",
      "True 净利/资产_max\n",
      "True 净利/营收_max\n",
      "True 纳税/营收_max\n",
      "True 净利/利润_max\n",
      "True 净利/负债_max\n",
      "True 纳税/负债_max\n",
      "True 净利/融资额度_max\n",
      "True 纳税/融资额度_max\n",
      "True 融资/负债_max\n",
      "True 纳税总额_std\n",
      "True 纳税/净利_std\n",
      "True 净利/营收_std\n",
      "True 纳税/营收_std\n",
      "True 所得税/纳税_std\n",
      "True 纳税/负债_std\n",
      "True 纳税/融资额度_std\n"
     ]
    }
   ],
   "source": [
    "clf_rf = RandomForestClassifier()\n",
    "rfecv = RFECV(estimator=clf_rf, step=1, cv=kf, scoring='f1')\n",
    "rfecv.fit(X, y)\n",
    "j = 0\n",
    "for i in rfecv.support_:\n",
    "    if(i):\n",
    "        print(i, X.columns[j])\n",
    "    j += 1"
   ]
  },
  {
   "cell_type": "code",
   "execution_count": 27,
   "metadata": {},
   "outputs": [],
   "source": [
    "from sklearn import tree"
   ]
  },
  {
   "cell_type": "code",
   "execution_count": 28,
   "metadata": {},
   "outputs": [
    {
     "name": "stdout",
     "output_type": "stream",
     "text": [
      "True 净利/所有者_mean\n",
      "True 政策/净利_mean\n",
      "True 融资/负债_mean\n",
      "True 政策/负债_mean\n",
      "True 接受补助_mean\n",
      "True 从业人数_min\n",
      "True 资产总额_min\n",
      "True 负债总额_min\n",
      "True 营业总收入_min\n",
      "True 主营业务收入_min\n",
      "True 利润总额_min\n",
      "True 净利润_min\n",
      "True 纳税总额_min\n",
      "True 所有者权益合计_min\n",
      "True 纳税/净利_min\n",
      "True 负债/资产_min\n",
      "True 主收/营收_min\n",
      "True 净利/资产_min\n",
      "True 净利/营收_min\n",
      "True 纳税/营收_min\n",
      "True 利润/营收_min\n",
      "True 净利/利润_min\n",
      "True 所得税_min\n",
      "True 所得税/纳税_min\n",
      "True 净利/负债_min\n",
      "True 纳税/负债_min\n",
      "True 负债/所有者_min\n",
      "True 费用_min\n",
      "True 费用/营收_min\n",
      "True 利润/费用_min\n",
      "True 净利/融资额度_min\n",
      "True 纳税/融资额度_min\n",
      "True 营收/资产_min\n",
      "True 所有者/资产_min\n",
      "True 净利/所有者_min\n",
      "True 政策/净利_min\n",
      "True 融资/负债_min\n",
      "True 政策/负债_min\n",
      "True 接受补助_min\n",
      "True 资产总额_max\n",
      "True 负债总额_max\n",
      "True 营业总收入_max\n",
      "True 主营业务收入_max\n",
      "True 利润总额_max\n",
      "True 净利润_max\n",
      "True 纳税总额_max\n",
      "True 所有者权益合计_max\n",
      "True 纳税/净利_max\n",
      "True 负债/资产_max\n",
      "True 主收/营收_max\n",
      "True 净利/资产_max\n",
      "True 净利/营收_max\n",
      "True 纳税/营收_max\n",
      "True 利润/营收_max\n",
      "True 净利/利润_max\n",
      "True 所得税_max\n",
      "True 所得税/纳税_max\n",
      "True 净利/负债_max\n",
      "True 纳税/负债_max\n",
      "True 负债/所有者_max\n",
      "True 费用_max\n",
      "True 费用/营收_max\n",
      "True 利润/费用_max\n",
      "True 净利/融资额度_max\n",
      "True 纳税/融资额度_max\n",
      "True 营收/资产_max\n",
      "True 所有者/资产_max\n",
      "True 净利/所有者_max\n",
      "True 政策/净利_max\n",
      "True 融资/负债_max\n",
      "True 政策/负债_max\n",
      "True 接受补助_max\n",
      "True 从业人数_std\n",
      "True 资产总额_std\n",
      "True 负债总额_std\n",
      "True 营业总收入_std\n",
      "True 主营业务收入_std\n",
      "True 利润总额_std\n",
      "True 净利润_std\n",
      "True 纳税总额_std\n",
      "True 所有者权益合计_std\n",
      "True 纳税/净利_std\n",
      "True 负债/资产_std\n",
      "True 主收/营收_std\n",
      "True 净利/资产_std\n",
      "True 净利/营收_std\n",
      "True 纳税/营收_std\n",
      "True 利润/营收_std\n",
      "True 净利/利润_std\n",
      "True 所得税_std\n",
      "True 所得税/纳税_std\n",
      "True 净利/负债_std\n",
      "True 纳税/负债_std\n",
      "True 负债/所有者_std\n",
      "True 费用_std\n",
      "True 费用/营收_std\n",
      "True 利润/费用_std\n",
      "True 净利/融资额度_std\n",
      "True 纳税/融资额度_std\n",
      "True 营收/资产_std\n",
      "True 所有者/资产_std\n",
      "True 净利/所有者_std\n",
      "True 政策/净利_std\n",
      "True 融资/负债_std\n",
      "True 政策/负债_std\n",
      "True 接受补助_std\n",
      "True 从业人数_growth\n",
      "True 资产总额_growth\n",
      "True 负债总额_growth\n",
      "True 营业总收入_growth\n",
      "True 主营业务收入_growth\n",
      "True 利润总额_growth\n",
      "True 净利润_growth\n",
      "True 纳税总额_growth\n",
      "True 所有者权益合计_growth\n",
      "True 负债/资产_growth\n",
      "True 负债/所有者_growth\n",
      "True 所有者/资产_growth\n",
      "True 净利/所有者_growth\n",
      "True 政策/净利_growth\n"
     ]
    }
   ],
   "source": [
    "clf_dt = tree.DecisionTreeClassifier()\n",
    "rfecv = RFECV(estimator=clf_dt, step=1, cv=kf, scoring='f1')\n",
    "rfecv.fit(X, y)\n",
    "j = 0\n",
    "for i in rfecv.support_:\n",
    "    if i:\n",
    "        print(i, X.columns[j])\n",
    "    j += 1"
   ]
  },
  {
   "cell_type": "code",
   "execution_count": 11,
   "metadata": {},
   "outputs": [],
   "source": [
    "X = data[['净三小0', '净利润_mean', '纳税总额_mean', '纳税/净利_mean', '净利/资产_mean', '净利/营收_mean',\n",
    "          '纳税/营收_mean', '净利/利润_mean', '净利/负债_mean', '纳税/负债_mean', '纳税/融资额度_mean', \n",
    "          '纳税/净利_min', '所得税_min', '所得税/纳税_min', '净利润_max', '纳税总额_max', '纳税/净利_max', \n",
    "          '净利/资产_max', '净利/营收_max', '纳税/营收_max', '净利/利润_max', '净利/负债_max', '纳税/负债_max', \n",
    "          '净利/融资额度_max', '纳税/融资额度_max', '融资/负债_max', '纳税总额_std', '纳税/净利_std', \n",
    "          '净利/营收_std', '纳税/营收_std', '所得税/纳税_std', '纳税/负债_std', '纳税/融资额度_std', \n",
    "          '净利/所有者_mean',  '政策/净利_mean', '融资/负债_mean' ,'政策/负债_mean', '接受补助_mean', \n",
    "          '从业人数_min', '资产总额_min', '负债总额_min', '营业总收入_min', '主营业务收入_min', '利润总额_min',\n",
    "          '净利润_min', '纳税总额_min', '所有者权益合计_min', '负债/资产_min', '主收/营收_min', '净利/资产_min',\n",
    "          '净利/营收_min', '纳税/营收_min', '利润/营收_min', '净利/利润_min', '净利/负债_min', '纳税/负债_min', \n",
    "          '负债/所有者_min', '费用_min', '费用/营收_min', '利润/费用_min', '净利/融资额度_min', \n",
    "          '纳税/融资额度_min', '营收/资产_min', '所有者/资产_min', '净利/所有者_min', '政策/净利_min', \n",
    "          '融资/负债_min', '政策/负债_min', '接受补助_min', '资产总额_max', '负债总额_max', '营业总收入_max',\n",
    "          '主营业务收入_max','利润总额_max', '所有者权益合计_max', '负债/资产_max', '主收/营收_max', \n",
    "          '利润/营收_max', '所得税_max', '所得税/纳税_max', '负债/所有者_max', '费用_max', '费用/营收_max', \n",
    "          '利润/费用_max', '营收/资产_max', '所有者/资产_max', '净利/所有者_max', '政策/净利_max', \n",
    "          '政策/负债_max', '接受补助_max', '从业人数_std', '资产总额_std', '负债总额_std', '营业总收入_std', \n",
    "          '主营业务收入_std', '利润总额_std', '净利润_std', '所有者权益合计_std', '负债/资产_std', '主收/营收_std', \n",
    "          '净利/资产_std', '利润/营收_std', '净利/利润_std', '所得税_std', '净利/负债_std', '负债/所有者_std', '费用_std',\n",
    "          '费用/营收_std', '利润/费用_std', '净利/融资额度_std', '营收/资产_std', '所有者/资产_std',\n",
    "          '净利/所有者_std', '政策/净利_std', '融资/负债_std', '政策/负债_std', '接受补助_std', '从业人数_growth',\n",
    "          '资产总额_growth', '负债总额_growth', '营业总收入_growth', '主营业务收入_growth', '利润总额_growth',\n",
    "          '净利润_growth', '纳税总额_growth', '所有者权益合计_growth', '负债/资产_growth', '负债/所有者_growth',\n",
    "          '所有者/资产_growth', '净利/所有者_growth', '政策/净利_growth'\n",
    "         ]]"
   ]
  },
  {
   "cell_type": "code",
   "execution_count": 12,
   "metadata": {},
   "outputs": [],
   "source": [
    "y = data['flag']"
   ]
  },
  {
   "cell_type": "code",
   "execution_count": 13,
   "metadata": {},
   "outputs": [],
   "source": [
    "kf = StratifiedKFold(n_splits=5, shuffle=True, random_state=2020)"
   ]
  },
  {
   "cell_type": "code",
   "execution_count": 34,
   "metadata": {},
   "outputs": [
    {
     "name": "stdout",
     "output_type": "stream",
     "text": [
      "{'class_weight': None, 'n_estimators': 100}\n",
      "{'class_weight': 'balanced', 'n_estimators': 100}\n",
      "{'class_weight': None, 'n_estimators': 100}\n",
      "{'class_weight': 'balanced', 'n_estimators': 50}\n",
      "{'class_weight': 'balanced_subsample', 'n_estimators': 50}\n"
     ]
    }
   ],
   "source": [
    "for i in range(5):\n",
    "    params = {'n_estimators': [10, 50, 100], 'class_weight': (None, 'balanced', 'balanced_subsample')}\n",
    "    clf_rf = RandomForestClassifier()\n",
    "    clf_rf_gcv = GridSearchCV(estimator=clf_rf, param_grid=params, cv=kf, scoring='f1')\n",
    "    clf_rf_gcv.fit(X, y)\n",
    "    print(clf_rf_gcv.best_params_)"
   ]
  },
  {
   "cell_type": "code",
   "execution_count": 35,
   "metadata": {},
   "outputs": [
    {
     "name": "stdout",
     "output_type": "stream",
     "text": [
      "Random Forest\n",
      "Accuracy: 0.9998597318067739\n",
      "Precision: 0.999642806104221\n",
      "Recall: 1.0\n",
      "F1-Score: 0.999821345616543\n",
      "Train time: 7.690415740013123\n",
      "Test time: 0.2633030414581299\n"
     ]
    }
   ],
   "source": [
    "clf_rf = RandomForestClassifier(class_weight='balanced', n_estimators=100)\n",
    "accuracy_rf = []\n",
    "precision_rf = []\n",
    "recall_rf = []\n",
    "f1_rf = []\n",
    "traintime_rf = 0\n",
    "testtime_rf = 0\n",
    "for train, test in kf.split(X, y):\n",
    "    st = time.time()\n",
    "    clf_rf.fit(X.iloc[train], y.iloc[train])\n",
    "    ed = time.time()\n",
    "    traintime_rf += (ed-st)\n",
    "    y_pred = clf_rf.predict(X.iloc[test])\n",
    "    edd = time.time()\n",
    "    testtime_rf += (edd-ed)\n",
    "    accuracy_rf.append(accuracy_score(y_pred, y.iloc[test]))\n",
    "    precision_rf.append(precision_score(y_pred, y.iloc[test]))\n",
    "    recall_rf.append(recall_score(y_pred, y.iloc[test]))\n",
    "    f1_rf.append(f1_score(y_pred, y.iloc[test]))\n",
    "print(\"Random Forest\")\n",
    "print(\"Accuracy:\", np.array(accuracy_rf).mean())\n",
    "print(\"Precision:\", np.array(precision_rf).mean())\n",
    "print(\"Recall:\", np.array(recall_rf).mean())\n",
    "print(\"F1-Score:\", np.array(f1_rf).mean())\n",
    "print(\"Train time:\", traintime_rf / 4.0)\n",
    "print(\"Test time:\", testtime_rf)"
   ]
  },
  {
   "cell_type": "code",
   "execution_count": 14,
   "metadata": {},
   "outputs": [],
   "source": [
    "from sklearn import tree"
   ]
  },
  {
   "cell_type": "code",
   "execution_count": 12,
   "metadata": {},
   "outputs": [
    {
     "name": "stdout",
     "output_type": "stream",
     "text": [
      "{'class_weight': None, 'max_depth': 3, 'min_samples_leaf': 4, 'min_samples_split': 2}\n",
      "{'class_weight': None, 'max_depth': 3, 'min_samples_leaf': 2, 'min_samples_split': 10}\n",
      "{'class_weight': None, 'max_depth': 3, 'min_samples_leaf': 4, 'min_samples_split': 2}\n",
      "{'class_weight': None, 'max_depth': 3, 'min_samples_leaf': 2, 'min_samples_split': 10}\n",
      "{'class_weight': None, 'max_depth': 3, 'min_samples_leaf': 4, 'min_samples_split': 2}\n"
     ]
    }
   ],
   "source": [
    "for i in range(5):\n",
    "    params = {'max_depth': [3, 10], 'class_weight': (None, 'balanced'), 'min_samples_split': [2, 10], \n",
    "              'min_samples_leaf': [2, 4]}\n",
    "    clf_dt = tree.DecisionTreeClassifier()\n",
    "    clf_dt_gcv = GridSearchCV(estimator=clf_dt, param_grid=params, cv=kf, scoring='f1')\n",
    "    clf_dt_gcv.fit(X, y)\n",
    "    print(clf_dt_gcv.best_params_)"
   ]
  },
  {
   "cell_type": "code",
   "execution_count": 13,
   "metadata": {},
   "outputs": [
    {
     "name": "stdout",
     "output_type": "stream",
     "text": [
      "Decision Tree\n",
      "Accuracy: 0.999915836723243\n",
      "Precision: 0.9998571173378247\n",
      "Recall: 0.9999285459092533\n",
      "F1-Score: 0.999892825244849\n",
      "Train time: 0.7235574722290039\n",
      "Test time: 0.06083869934082031\n"
     ]
    }
   ],
   "source": [
    "clf_dt = tree.DecisionTreeClassifier(max_depth=3, min_samples_leaf=4)\n",
    "accuracy_dt = []\n",
    "precision_dt = []\n",
    "recall_dt = []\n",
    "f1_dt = []\n",
    "traintime_dt = 0\n",
    "testtime_dt = 0\n",
    "for train, test in kf.split(X, y):\n",
    "    st = time.time()\n",
    "    clf_dt.fit(X.iloc[train], y.iloc[train])\n",
    "    ed = time.time()\n",
    "    traintime_dt += (ed-st)\n",
    "    y_pred = clf_dt.predict(X.iloc[test])\n",
    "    edd = time.time()\n",
    "    testtime_dt += (edd-ed)\n",
    "    accuracy_dt.append(accuracy_score(y_pred, y.iloc[test]))\n",
    "    precision_dt.append(precision_score(y_pred, y.iloc[test]))\n",
    "    recall_dt.append(recall_score(y_pred, y.iloc[test]))\n",
    "    f1_dt.append(f1_score(y_pred, y.iloc[test]))\n",
    "print(\"Decision Tree\")\n",
    "print(\"Accuracy:\", np.array(accuracy_dt).mean())\n",
    "print(\"Precision:\", np.array(precision_dt).mean())\n",
    "print(\"Recall:\", np.array(recall_dt).mean())\n",
    "print(\"F1-Score:\", np.array(f1_dt).mean())\n",
    "print(\"Train time:\", traintime_dt / 4.0)\n",
    "print(\"Test time:\", testtime_dt)"
   ]
  },
  {
   "cell_type": "code",
   "execution_count": 15,
   "metadata": {},
   "outputs": [],
   "source": [
    "from xgboost import XGBClassifier"
   ]
  },
  {
   "cell_type": "code",
   "execution_count": 15,
   "metadata": {},
   "outputs": [
    {
     "name": "stdout",
     "output_type": "stream",
     "text": [
      "{'gamma': 1, 'max_depth': 3, 'reg_alpha': 1, 'reg_lambda': 1}\n",
      "{'gamma': 1, 'max_depth': 3, 'reg_alpha': 1, 'reg_lambda': 1}\n",
      "{'gamma': 1, 'max_depth': 3, 'reg_alpha': 1, 'reg_lambda': 1}\n",
      "{'gamma': 1, 'max_depth': 3, 'reg_alpha': 1, 'reg_lambda': 1}\n",
      "{'gamma': 1, 'max_depth': 3, 'reg_alpha': 1, 'reg_lambda': 1}\n"
     ]
    }
   ],
   "source": [
    "for i in range(5):\n",
    "    params = {'max_depth': [3, 10], 'gamma': [1, 10], 'reg_alpha': [1, 10], 'reg_lambda': [1, 10]}\n",
    "    clf_xgb = XGBClassifier()\n",
    "    clf_xgb_gcv = GridSearchCV(estimator=clf_xgb, param_grid=params, cv=kf, scoring='f1')\n",
    "    clf_xgb_gcv.fit(X, y)\n",
    "    print(clf_xgb_gcv.best_params_)"
   ]
  },
  {
   "cell_type": "code",
   "execution_count": 16,
   "metadata": {},
   "outputs": [
    {
     "name": "stdout",
     "output_type": "stream",
     "text": [
      "XGBoost\n",
      "Accuracy: 0.999915836723243\n",
      "Precision: 0.9998571173378247\n",
      "Recall: 0.9999285459092533\n",
      "F1-Score: 0.999892825244849\n",
      "Train time: 15.232672274112701\n",
      "Test time: 0.33011841773986816\n"
     ]
    }
   ],
   "source": [
    "clf_xgb = XGBClassifier(max_depth=3, gamma=1, reg_alpha=1, reg_lambda=1)\n",
    "accuracy_xgb = []\n",
    "precision_xgb = []\n",
    "recall_xgb = []\n",
    "f1_xgb = []\n",
    "traintime_xgb = 0\n",
    "testtime_xgb = 0\n",
    "for train, test in kf.split(X, y):\n",
    "    st = time.time()\n",
    "    clf_xgb.fit(X.iloc[train], y.iloc[train])\n",
    "    ed = time.time()\n",
    "    traintime_xgb += (ed-st)\n",
    "    y_pred = clf_xgb.predict(X.iloc[test])\n",
    "    edd = time.time()\n",
    "    testtime_xgb += (edd-ed)\n",
    "    accuracy_xgb.append(accuracy_score(y_pred, y.iloc[test]))\n",
    "    precision_xgb.append(precision_score(y_pred, y.iloc[test]))\n",
    "    recall_xgb.append(recall_score(y_pred, y.iloc[test]))\n",
    "    f1_xgb.append(f1_score(y_pred, y.iloc[test]))\n",
    "print(\"XGBoost\")\n",
    "print(\"Accuracy:\", np.array(accuracy_xgb).mean())\n",
    "print(\"Precision:\", np.array(precision_xgb).mean())\n",
    "print(\"Recall:\", np.array(recall_xgb).mean())\n",
    "print(\"F1-Score:\", np.array(f1_xgb).mean())\n",
    "print(\"Train time:\", traintime_xgb / 4.0)\n",
    "print(\"Test time:\", testtime_xgb)"
   ]
  },
  {
   "cell_type": "code",
   "execution_count": 41,
   "metadata": {},
   "outputs": [],
   "source": [
    "from xgboost import plot_importance"
   ]
  },
  {
   "cell_type": "code",
   "execution_count": 42,
   "metadata": {},
   "outputs": [
    {
     "data": {
      "text/plain": [
       "<matplotlib.axes._subplots.AxesSubplot at 0x22284033988>"
      ]
     },
     "execution_count": 42,
     "metadata": {},
     "output_type": "execute_result"
    },
    {
     "data": {
      "image/png": "[encoded data removed]",
      "text/plain": [
       "<Figure size 432x288 with 1 Axes>"
      ]
     },
     "metadata": {
      "needs_background": "light"
     },
     "output_type": "display_data"
    }
   ],
   "source": [
    "plot_importance(clf_xgb)"
   ]
  },
  {
   "cell_type": "code",
   "execution_count": 18,
   "metadata": {},
   "outputs": [
    {
     "name": "stdout",
     "output_type": "stream",
     "text": [
      "Voting\n",
      "Accuracy: 0.999915836723243\n",
      "Precision: 0.9998571173378247\n",
      "Recall: 0.9999285459092533\n",
      "F1-Score: 0.999892825244849\n",
      "Train time: 28.77647703886032\n",
      "Test time: 0.9434773921966553\n"
     ]
    }
   ],
   "source": [
    "clf_rf = RandomForestClassifier(class_weight='balanced', n_estimators=100)\n",
    "clf_dt = tree.DecisionTreeClassifier(max_depth=3, min_samples_leaf=4)\n",
    "clf_xgb = XGBClassifier(max_depth=3, gamma=1, reg_alpha=1, reg_lambda=1)\n",
    "eclf = VotingClassifier(estimators=[('rf', clf_rf), ('dt', clf_dt), ('xgb', clf_xgb)], voting='soft', weights=[1, 1, 2])\n",
    "accuracy_eclf = []\n",
    "precision_eclf = []\n",
    "recall_eclf = []\n",
    "f1_eclf = []\n",
    "traintime_eclf = 0\n",
    "testtime_eclf = 0\n",
    "for train, test in kf.split(X, y):\n",
    "    st = time.time()\n",
    "    eclf.fit(X.iloc[train], y.iloc[train])\n",
    "    ed = time.time()\n",
    "    traintime_eclf += (ed-st)\n",
    "    y_pred = eclf.predict(X.iloc[test])\n",
    "    edd = time.time()\n",
    "    testtime_eclf += (edd-ed)\n",
    "    accuracy_eclf.append(accuracy_score(y_pred, y.iloc[test]))\n",
    "    precision_eclf.append(precision_score(y_pred, y.iloc[test]))\n",
    "    recall_eclf.append(recall_score(y_pred, y.iloc[test]))\n",
    "    f1_eclf.append(f1_score(y_pred, y.iloc[test]))\n",
    "print(\"Voting\")\n",
    "print(\"Accuracy:\", np.array(accuracy_eclf).mean())\n",
    "print(\"Precision:\", np.array(precision_eclf).mean())\n",
    "print(\"Recall:\", np.array(recall_eclf).mean())\n",
    "print(\"F1-Score:\", np.array(f1_eclf).mean())\n",
    "print(\"Train time:\", traintime_eclf / 4.0)\n",
    "print(\"Test time:\", testtime_eclf)"
   ]
  },
  {
   "cell_type": "code",
   "execution_count": null,
   "metadata": {},
   "outputs": [],
   "source": []
  },
  {
   "cell_type": "code",
   "execution_count": 8,
   "metadata": {},
   "outputs": [],
   "source": [
    "import random"
   ]
  },
  {
   "cell_type": "code",
   "execution_count": 16,
   "metadata": {},
   "outputs": [],
   "source": [
    "class GA:\n",
    "    def __init__(self, popsize, crossp, mutatep, itersize):\n",
    "        self.popsize = popsize\n",
    "        self.crossp = crossp\n",
    "        self.mutatep = mutatep\n",
    "        self.itersize = itersize\n",
    "        \n",
    "        self.fitness = []\n",
    "        self.clf_rf = RandomForestClassifier(class_weight='balanced', n_estimators=100)\n",
    "        self.clf_dt = tree.DecisionTreeClassifier(max_depth=3, min_samples_leaf=4)\n",
    "        self.clf_xgb = XGBClassifier(max_depth=3, gamma=1, reg_alpha=1, reg_lambda=1)\n",
    "        \n",
    "        self.result = []\n",
    "        self.maxfitness = 0\n",
    "        \n",
    "        self.fitness_over_sum = []\n",
    "        \n",
    "        self.populations = []\n",
    "        for i in range(self.popsize):\n",
    "            self.populations.append([random.randint(0, 9) for x in range(9)])\n",
    "            self.fitness.append(0)\n",
    "            self.fitness_over_sum.append(0)\n",
    "            \n",
    "    def compute_fitness(self):\n",
    "        for i, individual in enumerate(self.populations):\n",
    "            weight1 = (individual[0]*100 + individual[1]*10 + individual[2]) / 1000\n",
    "            weight2 = (individual[3]*100 + individual[4]*10 + individual[5]) / 1000\n",
    "            weight3 = (individual[6]*100 + individual[7]*10 + individual[8]) / 1000\n",
    "            \n",
    "            eclf = VotingClassifier(estimators=[('rf', self.clf_rf), ('dt', self.clf_dt), ('xgb', self.clf_xgb)], voting='soft', \n",
    "                                    weights=[weight1, weight2, weight3])\n",
    "            f1_eclf = []\n",
    "            for train, test in kf.split(X, y):\n",
    "                eclf.fit(X.iloc[train], y.iloc[train])\n",
    "                y_pred = eclf.predict(X.iloc[test])\n",
    "                f1_eclf.append(f1_score(y_pred, y.iloc[test]))\n",
    "            self.fitness[i] = np.array(f1_eclf).mean()\n",
    "    \n",
    "    def compute_fitness_over_sum(self):\n",
    "        sumfitness = sum(self.fitness)\n",
    "        print(sumfitness / self.popsize)\n",
    "        for i in range(self.popsize):\n",
    "            self.fitness_over_sum[i] = self.fitness[i] / sumfitness\n",
    "            \n",
    "    def select(self):\n",
    "        selp = random.random()\n",
    "        cump = 0\n",
    "        for i in range(self.popsize):\n",
    "            cump += self.fitness_over_sum[i]\n",
    "            if cump >= selp:\n",
    "                return i\n",
    "            \n",
    "    def cross(self, individual1, individual2):\n",
    "        rndp = random.random()\n",
    "        if rndp <= self.crossp:\n",
    "            pos = random.randint(0, 9)\n",
    "            tmp = individual1[pos:]\n",
    "            individual1[pos:] = individual2[pos:]\n",
    "            individual2[pos:] = tmp\n",
    "        return (individual1, individual2)\n",
    "    \n",
    "    def mutate(self, individual):\n",
    "        rndp = random.random()\n",
    "        if rndp <= self.mutatep:\n",
    "            pos = random.randint(0, 8)\n",
    "            num = random.randint(0, 9)\n",
    "            while(num == individual[pos]):\n",
    "                num = random.randint(0, 9)\n",
    "            individual[pos] = num\n",
    "        return individual\n",
    "    \n",
    "    def evolve(self):\n",
    "        self.compute_fitness()\n",
    "        self.compute_fitness_over_sum()\n",
    "        tmp_populations = []\n",
    "        for i in range(self.popsize // 2):\n",
    "            index1 = self.select()\n",
    "            index2 = self.select()\n",
    "            while(index1 == index2):\n",
    "                index1 = self.select()\n",
    "                index2 = self.select()\n",
    "            individual1 = self.populations[index1]\n",
    "            individual2 = self.populations[index2]\n",
    "            self.cross(individual1, individual2)\n",
    "            self.mutate(individual1)\n",
    "            self.mutate(individual2)\n",
    "            tmp_populations.append(individual1)\n",
    "            tmp_populations.append(individual2)\n",
    "            \n",
    "        for i in range(self.popsize):\n",
    "            if(self.fitness[i] > self.maxfitness):\n",
    "                self.maxfitness = self.fitness[i]\n",
    "                self.result = self.populations[i]\n",
    "            \n",
    "        for i in range(self.popsize):\n",
    "            self.populations[i] = tmp_populations[i]\n",
    "            \n",
    "    def run(self):\n",
    "        for i in range(self.itersize):\n",
    "            self.evolve()\n",
    "        print('Result\\nweight1: %.3f weight2: %.3f weight3: %.3f\\nMax F1-Score: %.6f' % \n",
    "              ((self.result[0]*100 + self.result[1]*10 + self.result[2]) / 1000, \n",
    "              (self.result[3]*100 + self.result[4]*10 + self.result[5]) / 1000, \n",
    "              (self.result[6]*100 + self.result[7]*10 + self.result[8]) / 1000, \n",
    "              self.maxfitness)\n",
    "             )"
   ]
  },
  {
   "cell_type": "code",
   "execution_count": 17,
   "metadata": {},
   "outputs": [],
   "source": [
    "pa = GA(10, 0.8, 0.1, 5)"
   ]
  },
  {
   "cell_type": "code",
   "execution_count": 18,
   "metadata": {},
   "outputs": [
    {
     "name": "stdout",
     "output_type": "stream",
     "text": [
      "0.9998928252448491\n",
      "0.9998928252448491\n",
      "0.9998928252448491\n",
      "0.9998928252448491\n",
      "0.9998928252448491\n",
      "Result\n",
      "weight1: 0.762 weight2: 0.362 weight3: 0.707\n",
      "Max F1-Score: 0.999893\n"
     ]
    }
   ],
   "source": [
    "pa.run()"
   ]
  },
  {
   "cell_type": "code",
   "execution_count": null,
   "metadata": {},
   "outputs": [],
   "source": []
  }
 ],
 "metadata": {
  "kernelspec": {
   "display_name": "Python 3",
   "language": "python",
   "name": "python3"
  },
  "language_info": {
   "codemirror_mode": {
    "name": "ipython",
    "version": 3
   },
   "file_extension": ".py",
   "mimetype": "text/x-python",
   "name": "python",
   "nbconvert_exporter": "python",
   "pygments_lexer": "ipython3",
   "version": "3.7.6"
  }
 },
 "nbformat": 4,
 "nbformat_minor": 4
}
